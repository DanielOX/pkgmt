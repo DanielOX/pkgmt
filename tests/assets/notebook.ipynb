{
 "cells": [
  {
   "cell_type": "code",
   "execution_count": null,
   "metadata": {},
   "outputs": [],
   "source": [
    "def do_something(url):\n",
    "    pass\n",
    "\n",
    "\n",
    "url = \"https://ploomber.io\"\n",
    "\n",
    "do_something(url)"
   ]
  }
 ],
 "metadata": {
  "kernelspec": {
   "display_name": "vscode",
   "language": "python",
   "name": "python3"
  },
  "language_info": {
   "name": "python",
   "version": "3.10.8"
  },
  "orig_nbformat": 4,
  "vscode": {
   "interpreter": {
    "hash": "311775ae6d8092fc5ad2ca66a4929014f2bf84f063ca6cd26574943ab663bae2"
   }
  }
 },
 "nbformat": 4,
 "nbformat_minor": 2
}
